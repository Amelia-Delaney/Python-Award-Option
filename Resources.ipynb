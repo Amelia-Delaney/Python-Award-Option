{
 "cells": [
  {
   "cell_type": "markdown",
   "metadata": {},
   "source": [
    "## Week 1: Introduction to Git and GitHub\n",
    "### Objectives\n",
    "By the end of this session, you will be able to:\n",
    "1. Understand the benefits of using GitHub for version control and collaboration.\n",
    "2. Create a GitHub account and set up your first repository by forking an existing one.\n",
    "3. Use markdown to create an introductory page for your repository.\n",
    "4. Create and commit an `.ipynb` file to your repository.\n",
    "5. Understand the basics of committing changes and version control.\n",
    "\n",
    "---\n",
    "\n",
    "### Part 1: Why Use GitHub?\n",
    "GitHub is an essential tool for:\n",
    "- **Version Control**: Keep track of changes to your code and revert if needed.\n",
    "- **Collaboration**: Work with peers on shared projects.\n",
    "- **Portfolio Building**: Showcase your work to universities or potential employers.\n",
    "\n",
    "---\n",
    "\n",
    "### Part 2: Getting Started\n",
    "#### Step 1: Sign Up for GitHub\n",
    "1. Visit [GitHub](https://github.com) and create an account.\n",
    "2. Verify your email address.\n",
    "\n",
    "#### Step 2: Fork a Repository\n",
    "1. Open the shared link to the class repository.\n",
    "2. Click the **Fork** button (top-right corner) to create your own copy of the repository.\n",
    "\n",
    "#### Step 3: Clone Your Repository Locally\n",
    "1. On your forked repository page, click the green **Code** button and copy the HTTPS URL.\n",
    "2. Open a terminal and type:\n",
    "   ```bash\n",
    "   git clone <repository_url>\n",
    "\n"
   ]
  }
 ],
 "metadata": {
  "language_info": {
   "name": "python"
  }
 },
 "nbformat": 4,
 "nbformat_minor": 2
}
