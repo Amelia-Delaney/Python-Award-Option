{
 "cells": [
  {
   "cell_type": "markdown",
   "metadata": {},
   "source": [
    "# Week 1: Introduction to Git, VSCode, and Jupyter Notebooks\n",
    "\n",
    "### Notes\n",
    "1. **Git**: Learn to use a version control system to manage and share code.\n",
    "   - Clone repositories to your local machine.\n",
    "   - Use basic Git commands to track and save changes.\n",
    "2. **VSCode**: Familiarise yourself with editing Python code in VSCode.\n",
    "   - Open and run Python files.\n",
    "3. **Jupyter Notebooks**: Understand how to combine notes and code in an interactive environment.\n",
    "   - Use markdown cells for documentation and code cells for Python scripts.\n",
    "\n",
    "### Skills\n",
    "- Navigate a Git repository.\n",
    "- Edit and execute Python code in VSCode.\n",
    "- Use Jupyter Notebooks for learning and coding.\n",
    "\n",
    "### Tasks\n",
    "#### Basic:\n",
    "- Clone a repository using `git clone <repository_url>`.\n",
    "#### Basic Task:\n",
    "- Open the terminal and type the command `git clone <repository_url>`.\n",
    "- Navigate to the cloned folder.\n",
    "- Open it in VSCode or Jupyter Notebook.\n",
    "#### Medium:\n",
    "- Create a Jupyter Notebook and write a markdown cell describing a project (e.g., \"Analysing Patient Data\").\n",
    "#### Hard:\n",
    "- Modify a cloned repository by adding a Python script for logging user inputs and push the changes back to the remote repository.\n"
   ]
  }
 ],
 "metadata": {
  "language_info": {
   "name": "python"
  }
 },
 "nbformat": 4,
 "nbformat_minor": 2
}
