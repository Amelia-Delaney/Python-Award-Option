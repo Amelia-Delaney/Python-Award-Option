{
 "cells": [
  {
   "cell_type": "code",
   "execution_count": null,
   "metadata": {},
   "outputs": [
    {
     "name": "stdout",
     "output_type": "stream",
     "text": [
      "Jerry is 15asj years old. \n",
      "Jerry is 15asj years old.\n"
     ]
    }
   ],
   "source": [
    "name = \"Jerry\"\n",
    "name = input('name = ')\n",
    "age = int(input('enter your age'))\n",
    "print(name, 'is', age, 'years old. ')\n",
    "print(f'{name} is {age} years old.')"
   ]
  },
  {
   "cell_type": "code",
   "execution_count": null,
   "metadata": {},
   "outputs": [
    {
     "name": "stdout",
     "output_type": "stream",
     "text": [
      "5\n",
      "4\n",
      "3\n",
      "2\n",
      "1\n",
      "We have lift off\n"
     ]
    }
   ],
   "source": [
    "from time import sleep\n",
    "for i in range (5):\n",
    "    print(5-i)\n",
    "    sleep(1)\n",
    "print('We have lift off')"
   ]
  },
  {
   "cell_type": "code",
   "execution_count": 9,
   "metadata": {},
   "outputs": [
    {
     "name": "stdout",
     "output_type": "stream",
     "text": [
      "5\n",
      "4\n",
      "3\n",
      "2\n",
      "1\n",
      "We have lift off. \n"
     ]
    }
   ],
   "source": [
    "i = 5\n",
    "while i >= 1: \n",
    "    print(i)\n",
    "    i -= 1\n",
    "    sleep(1)\n",
    "print('We have lift off. ')"
   ]
  },
  {
   "cell_type": "code",
   "execution_count": 12,
   "metadata": {},
   "outputs": [
    {
     "name": "stdout",
     "output_type": "stream",
     "text": [
      "dice1: 4|dice2: 5|score:9\n",
      "dice1: 4|dice2: 5|score:18\n",
      "dice1: 6|dice2: 7|score:31\n",
      "The total score is 31\n"
     ]
    }
   ],
   "source": [
    "import random\n",
    "score = 0\n",
    "for i in range(3):\n",
    "    dice1 = random.randint(1,7)\n",
    "    dice2 = random.randint(1,7)\n",
    "    score += (dice1 + dice2)\n",
    "    print(f'dice1: {dice1}|dice2: {dice2}|score:{score}')\n",
    "print(f'The total score is {score}')"
   ]
  },
  {
   "cell_type": "code",
   "execution_count": null,
   "metadata": {},
   "outputs": [],
   "source": [
    "while True: \n",
    "    "
   ]
  }
 ],
 "metadata": {
  "kernelspec": {
   "display_name": "Python 3 (ipykernel)",
   "language": "python",
   "name": "python3"
  }
 },
 "nbformat": 4,
 "nbformat_minor": 2
}
