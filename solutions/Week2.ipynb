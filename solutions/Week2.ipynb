{
 "cells": [
  {
   "cell_type": "code",
   "execution_count": 1,
   "id": "db5372ca",
   "metadata": {},
   "outputs": [],
   "source": [
    "#Challenge 1\n",
    "\n",
    "def simpleDecisions():\n",
    "    '''Takes a number and outputs a decision'''\n",
    "        \n",
    "    number = float(input(\"Enter a number: \"))\n",
    "\n",
    "    # Classify the number\n",
    "    if number > 0:\n",
    "        print(\"Positive\")\n",
    "    elif number < 0:\n",
    "        print(\"Negative\")\n",
    "    else:\n",
    "        print(\"Zero\")\n",
    "\n",
    "\n"
   ]
  },
  {
   "cell_type": "code",
   "execution_count": 3,
   "id": "3737ad33",
   "metadata": {},
   "outputs": [
    {
     "name": "stdout",
     "output_type": "stream",
     "text": [
      "Positive\n"
     ]
    }
   ],
   "source": [
    "simpleDecisions()\n"
   ]
  }
 ],
 "metadata": {
  "kernelspec": {
   "display_name": "Python 3 (ipykernel)",
   "language": "python",
   "name": "python3"
  },
  "language_info": {
   "codemirror_mode": {
    "name": "ipython",
    "version": 3
   },
   "file_extension": ".py",
   "mimetype": "text/x-python",
   "name": "python",
   "nbconvert_exporter": "python",
   "pygments_lexer": "ipython3",
   "version": "3.12.1"
  }
 },
 "nbformat": 4,
 "nbformat_minor": 5
}
