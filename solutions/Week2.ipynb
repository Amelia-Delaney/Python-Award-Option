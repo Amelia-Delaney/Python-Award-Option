{
 "cells": [
  {
   "cell_type": "code",
   "execution_count": null,
   "id": "db5372ca",
   "metadata": {},
   "outputs": [],
   "source": [
    "#Challenge 1\n",
    "\n",
    "def simpleDecisions():\n",
    "    '''Takes a number and outputs a decision'''\n",
    "        \n",
    "    number = float(input(\"Enter a number: \"))\n",
    "\n",
    "    # Classify the number\n",
    "    if number > 0:\n",
    "        print(\"Positive\")\n",
    "    elif number < 0:\n",
    "        print(\"Negative\")\n",
    "    else:\n",
    "        print(\"Zero\")\n",
    "simpleDecisions()"
   ]
  },
  {
   "cell_type": "code",
   "execution_count": null,
   "id": "3737ad33",
   "metadata": {},
   "outputs": [
    {
     "name": "stdout",
     "output_type": "stream",
     "text": [
      "Positive\n"
     ]
    }
   ],
   "source": [
    "\n"
   ]
  },
  {
   "cell_type": "code",
   "execution_count": null,
   "id": "a1678da5",
   "metadata": {},
   "outputs": [],
   "source": [
    "def guessNumber():\n",
    "    '''Randomly chooses a number between 1 and 10'''\n",
    "    import random\n",
    "    secret_number = random.randint(1, 10)\n",
    "    while True:\n",
    "        guess = int(input(\"Enter your guess: \"))\n",
    "        \n",
    "        if guess < 1 or guess > 10: #alternative-------------> if 1 >= gues <=10 :\n",
    "            print(\"Please enter a number between 1 and 10.\")\n",
    "        elif guess < secret_number:\n",
    "            print(\"Too low. Try again.\")\n",
    "        elif guess > secret_number:\n",
    "            print(\"Too high. Try again.\")\n",
    "        else:\n",
    "            print(\"Congratulations! You guessed it!\")\n",
    "          break \n",
    "guessNumber()"
   ]
  },
  {
   "cell_type": "code",
   "execution_count": 5,
   "id": "c9a8ab79",
   "metadata": {},
   "outputs": [
    {
     "name": "stdout",
     "output_type": "stream",
     "text": [
      "Too low. Try again.\n",
      "Too low. Try again.\n",
      "Congratulations! You guessed it!\n"
     ]
    }
   ],
   "source": [
    "guessNumber()\n"
   ]
  },
  {
   "cell_type": "code",
   "execution_count": null,
   "id": "a7a1df8b",
   "metadata": {},
   "outputs": [],
   "source": [
    "#Challenge 3\n",
    "def tablesGenerator():\n",
    "    togenerate = int(input('Enter a number whose table togenerate: '))\n",
    "    for i in range(12):\n",
    "        print(f'{i+1} x {togenerate} = {(i+1)*togenerate}')\n",
    "tablesGenerator()"
   ]
  },
  {
   "cell_type": "code",
   "execution_count": 13,
   "id": "33ce267b",
   "metadata": {},
   "outputs": [
    {
     "name": "stdout",
     "output_type": "stream",
     "text": [
      "1 x 8 = 8\n",
      "2 x 8 = 16\n",
      "3 x 8 = 24\n",
      "4 x 8 = 32\n",
      "5 x 8 = 40\n",
      "6 x 8 = 48\n",
      "7 x 8 = 56\n",
      "8 x 8 = 64\n",
      "9 x 8 = 72\n",
      "10 x 8 = 80\n",
      "11 x 8 = 88\n",
      "12 x 8 = 96\n"
     ]
    }
   ],
   "source": [
    "tablesGenerator()\n"
   ]
  },
  {
   "cell_type": "code",
   "execution_count": null,
   "id": "f9f32e75",
   "metadata": {},
   "outputs": [],
   "source": [
    "def countDownTimer():\n",
    "    '''Simulates a count down timer'''\n",
    "    counter = int(input('Enter a starting number: '))\n",
    "    while counter < 0:\n",
    "        print(counter)\n",
    "        counter =-1\n",
    "countDownTimer()"
   ]
  }
 ],
 "metadata": {
  "kernelspec": {
   "display_name": "Python 3 (ipykernel)",
   "language": "python",
   "name": "python3"
  },
  "language_info": {
   "codemirror_mode": {
    "name": "ipython",
    "version": 3
   },
   "file_extension": ".py",
   "mimetype": "text/x-python",
   "name": "python",
   "nbconvert_exporter": "python",
   "pygments_lexer": "ipython3",
   "version": "3.12.1"
  }
 },
 "nbformat": 4,
 "nbformat_minor": 5
}
