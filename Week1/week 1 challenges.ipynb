{
 "cells": [
  {
   "cell_type": "markdown",
   "id": "31044427",
   "metadata": {},
   "source": [
    "# my first python Notebook\n",
    "week 1 programming challenges"
   ]
  },
  {
   "cell_type": "code",
   "execution_count": 1,
   "id": "f256dbba",
   "metadata": {},
   "outputs": [
    {
     "ename": "SyntaxError",
     "evalue": "invalid syntax (132713447.py, line 2)",
     "output_type": "error",
     "traceback": [
      "  \u001b[36mCell\u001b[39m\u001b[36m \u001b[39m\u001b[32mIn[1]\u001b[39m\u001b[32m, line 2\u001b[39m\n\u001b[31m    \u001b[39m\u001b[31mweek 1 programming challenges\u001b[39m\n         ^\n\u001b[31mSyntaxError\u001b[39m\u001b[31m:\u001b[39m invalid syntax\n"
     ]
    }
   ],
   "source": [
    "\n",
    "def greet(user):\n",
    "    '''Greet the names user'''\n",
    "    print(f'Hello (user) nice to meet you.')"
   ]
  },
  {
   "cell_type": "code",
   "execution_count": null,
   "id": "0a1b9602",
   "metadata": {},
   "outputs": [],
   "source": [
    "greet('amelia')"
   ]
  }
 ],
 "metadata": {
  "kernelspec": {
   "display_name": "Python 3 (ipykernel)",
   "language": "python",
   "name": "python3"
  }
 },
 "nbformat": 4,
 "nbformat_minor": 5
}
