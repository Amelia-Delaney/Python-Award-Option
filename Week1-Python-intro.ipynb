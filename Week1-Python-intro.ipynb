{
 "cells": [
  {
   "cell_type": "markdown",
   "metadata": {},
   "source": [
    "### Week 1: Introduction to Python Programming\n",
    "\n",
    "## Introduction to Python Programming\n",
    "\n",
    "### Lesson Objectives:\n",
    " - Understand Python syntax, variables, and basic data types.\n",
    " - Write simple scripts using input/output with basic calculations.\n",
    "\n",
    "### Concepts:\n",
    "1. Variable assignment and data types (`int`, `float`, `str`).\n",
    "2. Input and output using `input()` and `print()`.\n",
    "3. Simple mathematical operations.\n",
    "4. Concatenation using the f'string method"
   ]
  },
  {
   "cell_type": "code",
   "execution_count": null,
   "metadata": {
    "vscode": {
     "languageId": "plaintext"
    }
   },
   "outputs": [],
   "source": [
    "print('Test')"
   ]
  }
 ],
 "metadata": {
  "language_info": {
   "name": "python"
  }
 },
 "nbformat": 4,
 "nbformat_minor": 2
}
