{
 "cells": [
  {
   "cell_type": "markdown",
   "metadata": {},
   "source": [
    "### Week 1: Introduction to Python Programming\n",
    "\n",
    "### Lesson Objectives:\n",
    "- Understand Python syntax, variables, and basic data types.\n",
    "- Write simple scripts using input/output with basic calculations.\n",
    "\n",
    "### Concepts:\n",
    "1. **Variable Assignment and Data Types**:\n",
    "   - Variables are used to store information to be referenced and manipulated in a program.\n",
    "   - Common data types include:\n",
    "     - `int` (integer): Whole numbers, e.g., `5`, `-3`\n",
    "     - `float` (floating-point): Decimal numbers, e.g., `3.14`, `-0.001`\n",
    "     - `str` (string): Sequence of characters, e.g., `\"hello\"`, `\"123\"`\n",
    "\n",
    "2. **Input and Output**:\n",
    "   - `input()`: Function to take user input.\n",
    "   - `print()`: Function to display output to the console.\n",
    "   - Example:\n",
    "     ```python\n",
    "     name = input(\"Enter your name: \")\n",
    "     print(f\"Hello, {name}!\")\n",
    "     ```\n",
    "\n",
    "3. **Simple Mathematical Operations**:\n",
    "   - Basic arithmetic operations: `+` (addition), `-` (subtraction), `*` (multiplication), `/` (division).\n",
    "   - Example:\n",
    "     ```python\n",
    "     a = 10\n",
    "     b = 5\n",
    "     sum = a + b\n",
    "     print(f\"The sum of {a} and {b} is {sum}\")\n",
    "     ```\n",
    "\n",
    "4. **String Concatenation using f-strings**:\n",
    "   - f-strings provide a way to embed expressions inside string literals, using curly braces `{}`.\n",
    "   - Example:\n",
    "     ```python\n",
    "     age = 20\n",
    "     print(f\"I am {age} years old\")\n",
    "     ```"
   ]
  },
  {
   "cell_type": "markdown",
   "metadata": {},
   "source": [
    "#### Practice Task 1\n",
    "\n",
    "Write a python program to calculate the area of a rectangular room.  Complete the code below\n",
    "\n",
    "### Exemplar output\n",
    "The area of the room is [area] square metres "
   ]
  },
  {
   "cell_type": "markdown",
   "metadata": {},
   "source": [
    "### Challenges\n",
    "\n",
    "#### **Add a new code cell for each of the tasks below  and code them**\n",
    "\n",
    "#### Challenge 1:\n",
    "\n",
    "## **Task 1: Temperature Converter**\n",
    "   - Write a program that takes celcius temperature as user input and it converts temperatures from Celsius to Fahrenheit.\n",
    "   - It prints a meaninful output message\n",
    "   - all variable names are meaningful\n",
    "   - Formula: `F = C * 9/5 + 32`\n",
    "   \n",
    "   ![Example Output](cel_to_fahrenheit.png)\n",
    "\n",
    "## **Task 2: Simple Calculator**\n",
    "   - Create a simple calculator that takes two numbers and performs addition, subtraction, multiplication, and division.  Include integer division and modulus division\n",
    "   - Output meaningful output\n",
    "\n",
    "   ![Simple Calculator Output](simpleCalc.png)\n",
    "\n",
    "## **Task 3: String Manipulation**\n",
    "   - Write a program that takes a user's full name as input and prints the initials.\n",
    "   - You will need to use the .find() and .upper() string functions\n",
    "\n",
    "   ![Initials Generator](initiasGen.png)"
   ]
  }
 ],
 "metadata": {
  "kernelspec": {
   "display_name": "Python 3 (ipykernel)",
   "language": "python",
   "name": "python3"
  },
  "language_info": {
   "codemirror_mode": {
    "name": "ipython",
    "version": 3
   },
   "file_extension": ".py",
   "mimetype": "text/x-python",
   "name": "python",
   "nbconvert_exporter": "python",
   "pygments_lexer": "ipython3",
   "version": "3.12.1"
  }
 },
 "nbformat": 4,
 "nbformat_minor": 2
}
